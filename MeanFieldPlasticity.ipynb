{
 "cells": [
  {
   "cell_type": "code",
   "execution_count": 10,
   "metadata": {},
   "outputs": [
    {
     "data": {
      "text/plain": [
       "0.1"
      ]
     },
     "execution_count": 10,
     "metadata": {},
     "output_type": "execute_result"
    }
   ],
   "source": [
    "import numpy as np\n",
    "\n",
    "ngrid=5\n",
    "ntime=10\n",
    "D=1.0\n",
    "dx=1.0\n",
    "dt  = 0.1\n",
    "\n",
    "dx_sq = dx * dx\n",
    "p=np.array(np.zeros(ngrid))\n",
    "p[ngrid/2]=1.0\n",
    "\n",
    "D*dt/dx_sq"
   ]
  },
  {
   "cell_type": "code",
   "execution_count": 11,
   "metadata": {},
   "outputs": [
    {
     "data": {
      "text/plain": [
       "array([0., 0., 1., 0., 0.])"
      ]
     },
     "execution_count": 11,
     "metadata": {},
     "output_type": "execute_result"
    }
   ],
   "source": [
    "p"
   ]
  },
  {
   "cell_type": "code",
   "execution_count": 7,
   "metadata": {},
   "outputs": [
    {
     "data": {
      "text/plain": [
       "array([-1. , -0.5,  0. ,  0. ,  0. ,  0. ,  0. ,  0. ,  0. ,  0. ,  0. ])"
      ]
     },
     "execution_count": 7,
     "metadata": {},
     "output_type": "execute_result"
    }
   ],
   "source": [
    "np.gradient(p)"
   ]
  },
  {
   "cell_type": "code",
   "execution_count": 15,
   "metadata": {},
   "outputs": [
    {
     "data": {
      "text/plain": [
       "array([ 0.,  1., -2.,  1.,  0.])"
      ]
     },
     "execution_count": 15,
     "metadata": {},
     "output_type": "execute_result"
    }
   ],
   "source": [
    "np.diff(p,n=2,append=p[0],prepend=p[-1])"
   ]
  },
  {
   "cell_type": "code",
   "execution_count": 13,
   "metadata": {},
   "outputs": [
    {
     "name": "stdout",
     "output_type": "stream",
     "text": [
      "Help on function diff in module numpy:\n",
      "\n",
      "diff(a, n=1, axis=-1, prepend=<no value>, append=<no value>)\n",
      "    Calculate the n-th discrete difference along the given axis.\n",
      "    \n",
      "    The first difference is given by ``out[n] = a[n+1] - a[n]`` along\n",
      "    the given axis, higher differences are calculated by using `diff`\n",
      "    recursively.\n",
      "    \n",
      "    Parameters\n",
      "    ----------\n",
      "    a : array_like\n",
      "        Input array\n",
      "    n : int, optional\n",
      "        The number of times values are differenced. If zero, the input\n",
      "        is returned as-is.\n",
      "    axis : int, optional\n",
      "        The axis along which the difference is taken, default is the\n",
      "        last axis.\n",
      "    prepend, append : array_like, optional\n",
      "        Values to prepend or append to \"a\" along axis prior to\n",
      "        performing the difference.  Scalar values are expanded to\n",
      "        arrays with length 1 in the direction of axis and the shape\n",
      "        of the input array in along all other axes.  Otherwise the\n",
      "        dimension and shape must match \"a\" except along axis.\n",
      "    \n",
      "    Returns\n",
      "    -------\n",
      "    diff : ndarray\n",
      "        The n-th differences. The shape of the output is the same as `a`\n",
      "        except along `axis` where the dimension is smaller by `n`. The\n",
      "        type of the output is the same as the type of the difference\n",
      "        between any two elements of `a`. This is the same as the type of\n",
      "        `a` in most cases. A notable exception is `datetime64`, which\n",
      "        results in a `timedelta64` output array.\n",
      "    \n",
      "    See Also\n",
      "    --------\n",
      "    gradient, ediff1d, cumsum\n",
      "    \n",
      "    Notes\n",
      "    -----\n",
      "    Type is preserved for boolean arrays, so the result will contain\n",
      "    `False` when consecutive elements are the same and `True` when they\n",
      "    differ.\n",
      "    \n",
      "    For unsigned integer arrays, the results will also be unsigned. This\n",
      "    should not be surprising, as the result is consistent with\n",
      "    calculating the difference directly:\n",
      "    \n",
      "    >>> u8_arr = np.array([1, 0], dtype=np.uint8)\n",
      "    >>> np.diff(u8_arr)\n",
      "    array([255], dtype=uint8)\n",
      "    >>> u8_arr[1,...] - u8_arr[0,...]\n",
      "    array(255, np.uint8)\n",
      "    \n",
      "    If this is not desirable, then the array should be cast to a larger\n",
      "    integer type first:\n",
      "    \n",
      "    >>> i16_arr = u8_arr.astype(np.int16)\n",
      "    >>> np.diff(i16_arr)\n",
      "    array([-1], dtype=int16)\n",
      "    \n",
      "    Examples\n",
      "    --------\n",
      "    >>> x = np.array([1, 2, 4, 7, 0])\n",
      "    >>> np.diff(x)\n",
      "    array([ 1,  2,  3, -7])\n",
      "    >>> np.diff(x, n=2)\n",
      "    array([  1,   1, -10])\n",
      "    \n",
      "    >>> x = np.array([[1, 3, 6, 10], [0, 5, 6, 8]])\n",
      "    >>> np.diff(x)\n",
      "    array([[2, 3, 4],\n",
      "           [5, 1, 2]])\n",
      "    >>> np.diff(x, axis=0)\n",
      "    array([[-1,  2,  0, -2]])\n",
      "    \n",
      "    >>> x = np.arange('1066-10-13', '1066-10-16', dtype=np.datetime64)\n",
      "    >>> np.diff(x)\n",
      "    array([1, 1], dtype='timedelta64[D]')\n",
      "\n"
     ]
    }
   ],
   "source": [
    "help(np.diff)"
   ]
  },
  {
   "cell_type": "code",
   "execution_count": null,
   "metadata": {},
   "outputs": [],
   "source": []
  }
 ],
 "metadata": {
  "kernelspec": {
   "display_name": "Python 2",
   "language": "python",
   "name": "python2"
  },
  "language_info": {
   "codemirror_mode": {
    "name": "ipython",
    "version": 2
   },
   "file_extension": ".py",
   "mimetype": "text/x-python",
   "name": "python",
   "nbconvert_exporter": "python",
   "pygments_lexer": "ipython2",
   "version": "2.7.16"
  }
 },
 "nbformat": 4,
 "nbformat_minor": 2
}
