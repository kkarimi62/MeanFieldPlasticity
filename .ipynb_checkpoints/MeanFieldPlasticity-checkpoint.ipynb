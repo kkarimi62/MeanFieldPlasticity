{
 "cells": [
  {
   "cell_type": "code",
   "execution_count": 252,
   "metadata": {},
   "outputs": [
    {
     "data": {
      "image/png": "[encoded data removed]",
      "text/plain": [
       "<Figure size 288x288 with 1 Axes>"
      ]
     },
     "metadata": {
      "needs_background": "light"
     },
     "output_type": "display_data"
    }
   ],
   "source": [
    "import numpy as np\n",
    "from matplotlib import animation\n",
    "\n",
    "\n",
    "ngrid=101\n",
    "D=1.0\n",
    "dt  = 0.1\n",
    "dx=1.0 \n",
    "ntime = 200\n",
    "G = 1.0\n",
    "gammaDot = 1.0\n",
    "tau = 1.0\n",
    "sigma_c = 20.0\n",
    "sigma = np.linspace(-(ngrid/2)*dx,(ngrid/2)*dx,ngrid)\n",
    "alpha = 1.0\n",
    "\n",
    "tau_inv = 1.0 /tau\n",
    "pref = dx * dt / tau\n",
    "GtimesGammaDot = G * gammaDot * dt\n",
    "dx_sq = dx * dx\n",
    "De = D*dt/dx_sq\n",
    "\n",
    "p=np.array(np.zeros(ngrid))\n",
    "p[ngrid/2]=1.0\n",
    "\n",
    "delta = np.array( np.zeros(ngrid))\n",
    "delta[ngrid/2]=1.0\n",
    "\n",
    "\n",
    "fig = plt.figure(figsize=(4,4))\n",
    "ax = plt.axes(xlim=(0, 2), ylim=(-2, 2))\n",
    "line, = ax.plot([], [], lw=2)\n",
    "\n",
    "def animate(i):\n",
    "    x = sigma #np.linspace(0, 2, 1000)\n",
    "    y = p #np.sin(2 * np.pi * (x - 0.01 * i))\n",
    "    line.set_data(x, y)\n",
    "    return line,\n",
    "\n",
    "\n",
    "def init():\n",
    "    line.set_data([], [])\n",
    "    return line,\n",
    "\n",
    "p0 = p.copy()\n",
    "def animate(i):\n",
    "    itime = i\n",
    "#for itime in xrange( ntime ):\n",
    "    Gamma = tau_inv * np.sum( p[ sigma >= sigma_c ] ) * dx\n",
    "#    D = 1.0 #alpha * Gamma\n",
    "#    print GtimesGammaDot\n",
    "    p_deriv_1st = np.diff(p,n=1,append=p[0]) #--- 1st derivative\n",
    "    p_deriv_2nd = np.diff(p,n=2,append=p[0],prepend=p[-1]) #--- 2nd derivative\n",
    "\n",
    "    p += D * dt * p_deriv_2nd / dx_sq - GtimesGammaDot * p_deriv_1st \\\n",
    "         -  pref * p * np.sum( p[ sigma >= sigma_c ] ) + dt * Gamma * delta\n",
    "    x = sigma #np.linspace(0, 2, 1000)\n",
    "    y = p #np.sin(2 * np.pi * (x - 0.01 * i))\n",
    "    line.set_data(x, y)\n",
    "    return line,\n",
    "            \n",
    "anim = animation.FuncAnimation(fig, animate, init_func=init,\n",
    "                               frames=100, interval=1, blit=True)\n",
    "\n",
    "plt.show()\n",
    "\n",
    "    \n",
    "    "
   ]
  },
  {
   "cell_type": "code",
   "execution_count": 243,
   "metadata": {},
   "outputs": [
    {
     "data": {
      "text/plain": [
       "0.19907153826870835"
      ]
     },
     "execution_count": 243,
     "metadata": {},
     "output_type": "execute_result"
    }
   ],
   "source": [
    "Gamma"
   ]
  },
  {
   "cell_type": "code",
   "execution_count": 244,
   "metadata": {},
   "outputs": [
    {
     "data": {
      "text/plain": [
       "[<matplotlib.lines.Line2D at 0x122214dd0>]"
      ]
     },
     "execution_count": 244,
     "metadata": {},
     "output_type": "execute_result"
    },
    {
     "data": {
      "image/png": "[encoded data removed]",
      "text/plain": [
       "<Figure size 288x288 with 1 Axes>"
      ]
     },
     "metadata": {
      "needs_background": "light"
     },
     "output_type": "display_data"
    }
   ],
   "source": [
    "import matplotlib.pylab as plt\n",
    "\n",
    "fig = plt.figure(figsize=(4,4))\n",
    "ax = fig.add_subplot(111)\n",
    "#ax.set_xlim(-0.25,0.25)\n",
    "ax.set_xlabel(r'$\\sigma$')\n",
    "ax.set_ylabel(r'$P(\\sigma)$')\n",
    "plt.plot(sigma, p0)\n",
    "plt.plot(sigma, p)"
   ]
  },
  {
   "cell_type": "code",
   "execution_count": 254,
   "metadata": {},
   "outputs": [
    {
     "data": {
      "image/png": "[encoded data removed]",
      "text/plain": [
       "<Figure size 432x288 with 1 Axes>"
      ]
     },
     "metadata": {
      "needs_background": "light"
     },
     "output_type": "display_data"
    }
   ],
   "source": [
    "\"\"\"\n",
    "Matplotlib Animation Example\n",
    "\n",
    "author: Jake Vanderplas\n",
    "email: vanderplas@astro.washington.edu\n",
    "website: http://jakevdp.github.com\n",
    "license: BSD\n",
    "Please feel free to use and modify this, but keep the above information. Thanks!\n",
    "\"\"\"\n",
    "\n",
    "import numpy as np\n",
    "from matplotlib import pyplot as plt\n",
    "from matplotlib import animation\n",
    "\n",
    "# First set up the figure, the axis, and the plot element we want to animate\n",
    "fig = plt.figure()\n",
    "ax = plt.axes(xlim=(0, 2), ylim=(-2, 2))\n",
    "line, = ax.plot([], [], lw=2)\n",
    "\n",
    "# initialization function: plot the background of each frame\n",
    "def init():\n",
    "    line.set_data([], [])\n",
    "    return line,\n",
    "\n",
    "# animation function.  This is called sequentially\n",
    "def animate(i):\n",
    "    x = np.linspace(0, 2, 1000)\n",
    "    y = np.sin(2 * np.pi * (x - 0.01 * i))\n",
    "    line.set_data(x, y)\n",
    "    return line,\n",
    "\n",
    "# call the animator.  blit=True means only re-draw the parts that have changed.\n",
    "anim = animation.FuncAnimation(fig, animate, init_func=init,\n",
    "                               frames=200, interval=20, blit=True)\n",
    "\n",
    "# save the animation as an mp4.  This requires ffmpeg or mencoder to be\n",
    "# installed.  The extra_args ensure that the x264 codec is used, so that\n",
    "# the video can be embedded in html5.  You may need to adjust this for\n",
    "# your system: for more information, see\n",
    "# http://matplotlib.sourceforge.net/api/animation_api.html\n",
    "anim.save('basic_animation.mp4', fps=30, extra_args=['-vcodec', 'libx264'])\n",
    "\n",
    "plt.show()"
   ]
  }
 ],
 "metadata": {
  "kernelspec": {
   "display_name": "Python 2",
   "language": "python",
   "name": "python2"
  },
  "language_info": {
   "codemirror_mode": {
    "name": "ipython",
    "version": 2
   },
   "file_extension": ".py",
   "mimetype": "text/x-python",
   "name": "python",
   "nbconvert_exporter": "python",
   "pygments_lexer": "ipython2",
   "version": "2.7.16"
  }
 },
 "nbformat": 4,
 "nbformat_minor": 2
}
